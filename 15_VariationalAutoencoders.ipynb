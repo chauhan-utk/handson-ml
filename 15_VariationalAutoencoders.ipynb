{
 "cells": [
  {
   "cell_type": "code",
   "execution_count": 2,
   "metadata": {
    "collapsed": true
   },
   "outputs": [],
   "source": [
    "from __future__ import print_function, division, unicode_literals\n",
    "\n",
    "import numpy as np\n",
    "import os\n",
    "import sys\n",
    "\n",
    "# to make this notebook's output stable across runs\n",
    "def reset_graph(seed=42):\n",
    "    tf.reset_default_graph()\n",
    "    tf.set_random_seed(seed)\n",
    "    np.random.seed(seed)\n",
    "\n",
    "# To plot pretty figures\n",
    "%matplotlib inline\n",
    "import matplotlib\n",
    "import matplotlib.pyplot as plt\n",
    "plt.rcParams['axes.labelsize'] = 14\n",
    "plt.rcParams['xtick.labelsize'] = 12\n",
    "plt.rcParams['ytick.labelsize'] = 12\n",
    "\n",
    "# Where to save the figures\n",
    "PROJECT_ROOT_DIR = \".\"\n",
    "CHAPTER_ID = \"autoencoders\"\n",
    "\n",
    "def save_fig(fig_id, tight_layout=True):\n",
    "    path = os.path.join(PROJECT_ROOT_DIR, \"images\", CHAPTER_ID, fig_id + \".png\")\n",
    "    print(\"Saving figure\", fig_id)\n",
    "    if tight_layout:\n",
    "        plt.tight_layout()\n",
    "    plt.savefig(path, format='png', dpi=300)"
   ]
  },
  {
   "cell_type": "code",
   "execution_count": 9,
   "metadata": {
    "collapsed": true
   },
   "outputs": [],
   "source": [
    "def plot_image(image, shape=[28,28]):\n",
    "    plt.imshow(image.reshape(shape), cmap=\"Greys\", interpolation=\"nearest\")\n",
    "    plt.axis(\"off\")\n",
    "    return\n",
    "\n",
    "def plot_multiple_images(images, n_rows, n_cols, pad=2):\n",
    "    images = images - images.min() # make the minimum == 0, so the padding looks white\n",
    "    w, h = images.shape[1:]\n",
    "    image = np.zeros(((w+pad) * n_rows + pad,\n",
    "                     (h+pad) * n_cols + pad))\n",
    "    for y in range(n_rows):\n",
    "        for x in range(n_cols):\n",
    "            image[(y*(h+pad)+pad):(y*(h+pad)+pad+h),\n",
    "                  (x*(w+pad)+pad):(x*(w+pad)+pad+w)] = images[y*n_cols+x]\n",
    "    plt.imshow(image, cmap=\"Greys\", interpolation=\"nearest\")\n",
    "    plt.axis(\"off\")\n",
    "    return"
   ]
  },
  {
   "cell_type": "code",
   "execution_count": 10,
   "metadata": {
    "collapsed": true
   },
   "outputs": [],
   "source": [
    "import numpy.random as rnd\n",
    "rnd.seed(4)\n",
    "m = 200\n",
    "w1, w2 = 0.1, 0.3\n",
    "noise = 0.1\n",
    "\n",
    "angles = rnd.rand(m) * 3 * np.pi / 2 - 0.5\n",
    "data = np.empty((m, 3))\n",
    "data[:, 0] = np.cos(angles) + np.sin(angles)/2 + noise * rnd.randn(m) / 2\n",
    "data[:, 1] = np.sin(angles) * 0.7 + noise * rnd.randn(m) / 2\n",
    "data[:, 2] = data[:, 0] * w1 + data[:, 1] * w2 + noise * rnd.randn(m)"
   ]
  },
  {
   "cell_type": "code",
   "execution_count": 11,
   "metadata": {
    "collapsed": true
   },
   "outputs": [],
   "source": [
    "from sklearn.preprocessing import StandardScaler\n",
    "\n",
    "scaler = StandardScaler()\n",
    "X_train = scaler.fit_transform(data[:100])\n",
    "X_test = scaler.transform(data[:100])"
   ]
  },
  {
   "cell_type": "code",
   "execution_count": 3,
   "metadata": {
    "collapsed": true
   },
   "outputs": [],
   "source": [
    "import tensorflow as tf"
   ]
  },
  {
   "cell_type": "markdown",
   "metadata": {},
   "source": [
    "## Variational Autoencoders"
   ]
  },
  {
   "cell_type": "code",
   "execution_count": 5,
   "metadata": {},
   "outputs": [],
   "source": [
    "reset_graph()\n",
    "\n",
    "from functools import partial\n",
    "\n",
    "n_inputs = 28 * 28\n",
    "n_hidden1 = 500\n",
    "n_hidden2 = 500\n",
    "n_hidden3 = 20 # codings\n",
    "n_hidden4 = n_hidden2\n",
    "n_hidden5 = n_hidden1\n",
    "n_outputs = n_inpu\n",
    "learning_rate = 0.001\n",
    "\n",
    "initializer = tf.contrib.layers.variance_scaling_initializer()\n",
    "\n",
    "my_dense_layer = partial(tf.layers.dense,\n",
    "                        activation=tf.nn.relu,\n",
    "                        kernel_initializer=initializer)\n",
    "\n",
    "X = tf.placeholder(tf.float32, [None, n_inputs])\n",
    "hidden1 = my_dense_layer(X, n_hidden1)\n",
    "hidden2 = my_dense_layer(hidden1, n_hidden2)\n",
    "hidden3_mean = my_dense_layer(hidden2, n_hidden3, activation=None)\n",
    "hidden3_sigma = my_dense_layer(hidden2, n_hidden3, activation=None)\n",
    "noise = tf.random_normal(tf.shape(hidden3_sigma), dtype=tf.float32)\n",
    "hidden3 = hidden3_mean + hidden3_sigma * noise\n",
    "hidden4 = my_dense_layer(hidden3, n_hidden4)\n",
    "hidden5 = my_dense_layer(hidden4, n_hidden5)\n",
    "logits = my_dense_layer(hidden5, n_outputs, activation=None)\n",
    "outputs = tf.sigmoid(logits)\n",
    "\n",
    "xentropy = tf.nn.sigmoid_cross_entropy_with_logits(labels=X, logits=logits)\n",
    "reconstruction_loss = tf.reduce_sum(xentropy)"
   ]
  },
  {
   "cell_type": "code",
   "execution_count": 6,
   "metadata": {
    "collapsed": true
   },
   "outputs": [],
   "source": [
    "eps = 1e-10 # smoothing term to avoid computing log(0) which is NaN\n",
    "latent_loss = 0.5 * tf.reduce_sum(\n",
    "    tf.square(hidden3_sigma) + tf.square(hidden3_mean)\n",
    "    - 1 - tf.log(eps + tf.square(hidden3_sigma)))"
   ]
  },
  {
   "cell_type": "code",
   "execution_count": 7,
   "metadata": {
    "collapsed": true
   },
   "outputs": [],
   "source": [
    "loss = reconstruction_loss + latent_loss\n",
    "\n",
    "optimizer = tf.train.AdamOptimizer(learning_rate=learning_rate)\n",
    "training_op = optimizer.minimize(loss)\n",
    "\n",
    "init = tf.global_variables_initializer()\n",
    "saver = tf.train.Saver()"
   ]
  },
  {
   "cell_type": "code",
   "execution_count": 12,
   "metadata": {},
   "outputs": [
    {
     "name": "stdout",
     "output_type": "stream",
     "text": [
      "Extracting ./datasets/mnist1/train-images-idx3-ubyte.gz\n",
      "Extracting ./datasets/mnist1/train-labels-idx1-ubyte.gz\n",
      "Extracting ./datasets/mnist1/t10k-images-idx3-ubyte.gz\n",
      "Extracting ./datasets/mnist1/t10k-labels-idx1-ubyte.gz\n"
     ]
    }
   ],
   "source": [
    "from tensorflow.examples.tutorials.mnist import input_data\n",
    "mnist = input_data.read_data_sets(\"./datasets/mnist1/\")"
   ]
  },
  {
   "cell_type": "code",
   "execution_count": 13,
   "metadata": {},
   "outputs": [
    {
     "name": "stdout",
     "output_type": "stream",
     "text": [
      "09% Train total loss: 23578.3 \tReconstruction loss: 20629.3 \tLatent loss: 2949.04\n",
      "19% Train total loss: 23186.2 \tReconstruction loss: 20609.7 \tLatent loss: 2576.54\n",
      "2 Train total loss: 21651.6 \tReconstruction loss: 18596.6 \tLatent loss: 3054.97\n",
      "3 Train total loss: 21286.2 \tReconstruction loss: 18456.6 \tLatent loss: 2829.53\n",
      "49% Train total loss: 20269.4 \tReconstruction loss: 17412.7 \tLatent loss: 2856.68\n",
      "5 %Train total loss: 20061.0 \tReconstruction loss: 17082.9 \tLatent loss: 2978.11\n",
      "69% Train total loss: 19928.1 \tReconstruction loss: 16803.5 \tLatent loss: 3124.55\n",
      "7 Train total loss: 18715.2 \tReconstruction loss: 15753.2 \tLatent loss: 2962.06\n",
      "8 Train total loss: 18278.0 \tReconstruction loss: 15462.0 \tLatent loss: 2815.94\n",
      "9 Train total loss: 17799.4 \tReconstruction loss: 14838.7 \tLatent loss: 2960.68\n",
      "10% Train total loss: 17378.8 \tReconstruction loss: 14564.9 \tLatent loss: 2813.89\n",
      "11 Train total loss: 17674.7 \tReconstruction loss: 14776.8 \tLatent loss: 2897.91\n",
      "12% Train total loss: 18174.3 \tReconstruction loss: 15139.5 \tLatent loss: 3034.77\n",
      "13 Train total loss: 17706.4 \tReconstruction loss: 14753.9 \tLatent loss: 2952.52\n",
      "14% Train total loss: 16484.9 \tReconstruction loss: 13519.0 \tLatent loss: 2965.9\n",
      "15% Train total loss: 16771.0 \tReconstruction loss: 13857.9 \tLatent loss: 2913.03\n",
      "16% Train total loss: 16522.7 \tReconstruction loss: 13587.3 \tLatent loss: 2935.44\n",
      "17% Train total loss: 16946.8 \tReconstruction loss: 14054.5 \tLatent loss: 2892.34\n",
      "18 Train total loss: 16335.1 \tReconstruction loss: 13370.9 \tLatent loss: 2964.18\n",
      "19 Train total loss: 16108.6 \tReconstruction loss: 13286.1 \tLatent loss: 2822.47\n",
      "20 Train total loss: 15048.9 \tReconstruction loss: 12177.8 \tLatent loss: 2871.08\n",
      "21% Train total loss: 15709.9 \tReconstruction loss: 12784.6 \tLatent loss: 2925.26\n",
      "22 Train total loss: 15507.8 \tReconstruction loss: 12622.0 \tLatent loss: 2885.82\n",
      "23% Train total loss: 16151.9 \tReconstruction loss: 13178.0 \tLatent loss: 2973.9\n",
      "24% Train total loss: 15728.5 \tReconstruction loss: 12797.6 \tLatent loss: 2930.84\n",
      "25 Train total loss: 15418.8 \tReconstruction loss: 12516.4 \tLatent loss: 2902.43\n",
      "26% Train total loss: 15297.9 \tReconstruction loss: 12319.2 \tLatent loss: 2978.67\n",
      "27 Train total loss: 15518.5 \tReconstruction loss: 12563.3 \tLatent loss: 2955.17\n",
      "28 Train total loss: 15354.6 \tReconstruction loss: 12425.4 \tLatent loss: 2929.22\n",
      "29% Train total loss: 14331.3 \tReconstruction loss: 11487.5 \tLatent loss: 2843.79\n",
      "30% Train total loss: 15096.2 \tReconstruction loss: 12113.7 \tLatent loss: 2982.56\n",
      "31 Train total loss: 15629.8 \tReconstruction loss: 12622.7 \tLatent loss: 3007.08\n",
      "32% Train total loss: 15380.6 \tReconstruction loss: 12350.9 \tLatent loss: 3029.68\n",
      "33% Train total loss: 15178.1 \tReconstruction loss: 12141.7 \tLatent loss: 3036.37\n",
      "34% Train total loss: 15300.7 \tReconstruction loss: 12290.7 \tLatent loss: 3010.01\n",
      "35 Train total loss: 15037.1 \tReconstruction loss: 12076.8 \tLatent loss: 2960.31\n",
      "36% Train total loss: 14581.5 \tReconstruction loss: 11602.6 \tLatent loss: 2978.96\n",
      "37 Train total loss: 14994.1 \tReconstruction loss: 11942.7 \tLatent loss: 3051.41\n",
      "38 Train total loss: 14833.9 \tReconstruction loss: 11816.1 \tLatent loss: 3017.83\n",
      "39 Train total loss: 15688.8 \tReconstruction loss: 12542.2 \tLatent loss: 3146.59\n",
      "40% Train total loss: 14451.6 \tReconstruction loss: 11488.8 \tLatent loss: 2962.76\n",
      "41 Train total loss: 14605.4 \tReconstruction loss: 11622.1 \tLatent loss: 2983.23\n",
      "42 Train total loss: 14814.5 \tReconstruction loss: 11817.8 \tLatent loss: 2996.69\n",
      "43 Train total loss: 15419.4 \tReconstruction loss: 12285.5 \tLatent loss: 3133.89\n",
      "44 Train total loss: 14645.9 \tReconstruction loss: 11650.9 \tLatent loss: 2995.05\n",
      "45 Train total loss: 14512.6 \tReconstruction loss: 11498.3 \tLatent loss: 3014.34\n",
      "46 Train total loss: 15042.6 \tReconstruction loss: 11984.4 \tLatent loss: 3058.25\n",
      "47 Train total loss: 14669.5 \tReconstruction loss: 11640.8 \tLatent loss: 3028.75\n",
      "48% Train total loss: 14435.5 \tReconstruction loss: 11452.2 \tLatent loss: 2983.34\n",
      "49% Train total loss: 15468.6 \tReconstruction loss: 12297.5 \tLatent loss: 3171.1\n"
     ]
    }
   ],
   "source": [
    "n_epochs = 50\n",
    "batch_size = 150\n",
    "\n",
    "with tf.Session() as sess:\n",
    "    init.run()\n",
    "    for epoch in range(n_epochs):\n",
    "        n_batches = mnist.train.num_examples // batch_size\n",
    "        for iteration in range(n_batches):\n",
    "            print(\"\\r{}%\".format(100 * iteration // n_batches), end=\"\")\n",
    "            sys.stdout.flush()\n",
    "            X_batch, y_batch = mnist.train.next_batch(batch_size)\n",
    "            sess.run(training_op, feed_dict={X: X_batch})\n",
    "        loss_val, reconstruction_loss_val, latent_loss_val = sess.run([loss, reconstruction_loss, latent_loss], feed_dict={X: X_batch})\n",
    "        print(\"\\r{}\".format(epoch), \"Train total loss:\", loss_val, \"\\tReconstruction loss:\", reconstruction_loss_val, \"\\tLatent loss:\", latent_loss_val)\n",
    "        saver.save(sess, \"./my_model_variational.ckpt\")"
   ]
  },
  {
   "cell_type": "code",
   "execution_count": 14,
   "metadata": {
    "collapsed": true
   },
   "outputs": [],
   "source": [
    "reset_graph()\n",
    "\n",
    "from functools import partial\n",
    "\n",
    "n_inputs = 28 * 28\n",
    "n_hidden1 = 500\n",
    "n_hidden2 = 500\n",
    "n_hidden3 = 20  # codings\n",
    "n_hidden4 = n_hidden2\n",
    "n_hidden5 = n_hidden1\n",
    "n_outputs = n_inputs\n",
    "learning_rate = 0.001\n",
    "\n",
    "initializer = tf.contrib.layers.variance_scaling_initializer()\n",
    "my_dense_layer = partial(\n",
    "    tf.layers.dense,\n",
    "    activation=tf.nn.elu,\n",
    "    kernel_initializer=initializer)\n",
    "\n",
    "X = tf.placeholder(tf.float32, [None, n_inputs])\n",
    "hidden1 = my_dense_layer(X, n_hidden1)\n",
    "hidden2 = my_dense_layer(hidden1, n_hidden2)\n",
    "hidden3_mean = my_dense_layer(hidden2, n_hidden3, activation=None)\n",
    "hidden3_gamma = my_dense_layer(hidden2, n_hidden3, activation=None)\n",
    "noise = tf.random_normal(tf.shape(hidden3_gamma), dtype=tf.float32)\n",
    "hidden3 = hidden3_mean + tf.exp(0.5 * hidden3_gamma) * noise\n",
    "hidden4 = my_dense_layer(hidden3, n_hidden4)\n",
    "hidden5 = my_dense_layer(hidden4, n_hidden5)\n",
    "logits = my_dense_layer(hidden5, n_outputs, activation=None)\n",
    "outputs = tf.sigmoid(logits)\n",
    "\n",
    "xentropy = tf.nn.sigmoid_cross_entropy_with_logits(labels=X, logits=logits)\n",
    "reconstruction_loss = tf.reduce_sum(xentropy)\n",
    "latent_loss = 0.5 * tf.reduce_sum(\n",
    "    tf.exp(hidden3_gamma) + tf.square(hidden3_mean) - 1 - hidden3_gamma)\n",
    "loss = reconstruction_loss + latent_loss\n",
    "\n",
    "optimizer = tf.train.AdamOptimizer(learning_rate=learning_rate)\n",
    "training_op = optimizer.minimize(loss)\n",
    "\n",
    "init = tf.global_variables_initializer()\n",
    "saver = tf.train.Saver()"
   ]
  },
  {
   "cell_type": "code",
   "execution_count": null,
   "metadata": {
    "collapsed": true
   },
   "outputs": [],
   "source": []
  }
 ],
 "metadata": {
  "kernelspec": {
   "display_name": "Python 3",
   "language": "python",
   "name": "python3"
  },
  "language_info": {
   "codemirror_mode": {
    "name": "ipython",
    "version": 3
   },
   "file_extension": ".py",
   "mimetype": "text/x-python",
   "name": "python",
   "nbconvert_exporter": "python",
   "pygments_lexer": "ipython3",
   "version": "3.5.3"
  }
 },
 "nbformat": 4,
 "nbformat_minor": 2
}
